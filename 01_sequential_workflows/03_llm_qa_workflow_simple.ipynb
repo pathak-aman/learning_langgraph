{
 "cells": [
  {
   "cell_type": "code",
   "id": "initial_id",
   "metadata": {
    "collapsed": true
   },
   "source": [
    "import os\n",
    "\n",
    "from langgraph.graph import StateGraph, START, END\n",
    "from langchain_core.messages import ChatMessage, HumanMessage, SystemMessage\n",
    "from langchain_openai import ChatOpenAI\n",
    "from dotenv import load_dotenv\n",
    "from typing import TypedDict\n",
    "\n",
    "load_dotenv()"
   ],
   "outputs": [],
   "execution_count": null
  },
  {
   "metadata": {},
   "cell_type": "code",
   "source": [
    "class SimpleLLMQA_State(TypedDict):\n",
    "    question: str\n",
    "    answer: str"
   ],
   "id": "f629af3cb3e3d2b9",
   "outputs": [],
   "execution_count": null
  },
  {
   "metadata": {},
   "cell_type": "code",
   "source": [
    "model = ChatOpenAI(\n",
    "    base_url= \"https://api.ai.it.ufl.edu\",\n",
    "    model = \"llama-3.1-8b-instruct\",\n",
    "    temperature=0.1,\n",
    "    max_tokens=200,\n",
    "    api_key=os.getenv(\"NAVIGATOR_TOOLKIT_API_KEY\")\n",
    ")\n",
    "\n",
    "def LLM_qa(state: SimpleLLMQA_State) -> SimpleLLMQA_State:\n",
    "    question = state[\"question\"]\n",
    "    messages = [\n",
    "        SystemMessage(content=\"You are a helpful assistant that answers user questions.\"),\n",
    "        HumanMessage(content=f\"Question: {question}\"),\n",
    "    ]\n",
    "    response = model.invoke(messages)\n",
    "    state[\"answer\"] = response.content\n",
    "    return state\n",
    "\n",
    "\n",
    "def LLM_prompt(state: SimpleLLMQA_State) -> SimpleLLMQA_State:\n",
    "    question = state[\"question\"]\n",
    "    prompt = f\"You are a helpful assistant that answers user questions. Question: {question}\"\n",
    "    answer = model.invoke(prompt)\n",
    "    state[\"answer\"] = answer.content\n",
    "    return state\n"
   ],
   "id": "e5130601e6cf3cce",
   "outputs": [],
   "execution_count": null
  },
  {
   "metadata": {},
   "cell_type": "code",
   "source": [
    "# Define the graph\n",
    "\n",
    "# START ---> LLM_qa ---> END\n",
    "graph = StateGraph(SimpleLLMQA_State)\n",
    "\n",
    "# Add the graph nodes\n",
    "# graph.add_node(\"compute_answer\", LLM_qa)\n",
    "graph.add_node(\"compute_answer\", LLM_prompt)\n",
    "\n",
    "# Add the graph edges\n",
    "graph.add_edge(START, \"compute_answer\")\n",
    "graph.add_edge(\"compute_answer\", END)\n",
    "\n",
    "# Compile the graph\n",
    "workflow = graph.compile()\n",
    "workflow"
   ],
   "id": "700a90926015d405",
   "outputs": [],
   "execution_count": null
  },
  {
   "metadata": {},
   "cell_type": "code",
   "source": [
    "initial_state = {\n",
    "    \"question\": \"What is the capital of Delhi?\"\n",
    "}\n",
    "\n",
    "final_state = workflow.invoke(initial_state)"
   ],
   "id": "6b7935a87dd2924c",
   "outputs": [],
   "execution_count": null
  },
  {
   "metadata": {},
   "cell_type": "code",
   "source": "final_state",
   "id": "774d1a35e8f3b314",
   "outputs": [],
   "execution_count": null
  },
  {
   "metadata": {},
   "cell_type": "code",
   "source": "",
   "id": "6d24db561f7b588a",
   "outputs": [],
   "execution_count": null
  }
 ],
 "metadata": {
  "kernelspec": {
   "display_name": "Python 3",
   "language": "python",
   "name": "python3"
  },
  "language_info": {
   "codemirror_mode": {
    "name": "ipython",
    "version": 2
   },
   "file_extension": ".py",
   "mimetype": "text/x-python",
   "name": "python",
   "nbconvert_exporter": "python",
   "pygments_lexer": "ipython2",
   "version": "2.7.6"
  }
 },
 "nbformat": 4,
 "nbformat_minor": 5
}
