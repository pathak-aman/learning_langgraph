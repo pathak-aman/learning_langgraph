{
 "cells": [
  {
   "cell_type": "code",
   "execution_count": 1,
   "id": "3786d920",
   "metadata": {},
   "outputs": [],
   "source": [
    "from langgraph.graph import StateGraph, START, END\n",
    "from typing import TypedDict"
   ]
  },
  {
   "cell_type": "code",
   "execution_count": 2,
   "id": "5f8a65d7",
   "metadata": {},
   "outputs": [],
   "source": [
    "class BMI_State_with_Category(TypedDict):\n",
    "    weight_kg : float\n",
    "    height_m : float\n",
    "    bmi : float\n",
    "    category: str"
   ]
  },
  {
   "cell_type": "code",
   "execution_count": 3,
   "id": "7f525032",
   "metadata": {},
   "outputs": [],
   "source": [
    "# Define python function\n",
    "\n",
    "def compute_bmi(state: BMI_State_with_Category) -> BMI_State_with_Category:\n",
    "    weight = state[\"weight_kg\"]\n",
    "    height = state[\"height_m\"]\n",
    "\n",
    "    bmi = weight / (height ** 2)\n",
    "    state[\"bmi\"] = bmi\n",
    "\n",
    "    return state\n",
    "\n",
    "def compute_category(state: BMI_State_with_Category) -> BMI_State_with_Category:\n",
    "    bmi = state[\"bmi\"]\n",
    "\n",
    "    if bmi < 18.5:\n",
    "        ans = \"Underweight\"\n",
    "    elif bmi >= 18.5 and bmi < 25:\n",
    "        ans = \"Normal\"\n",
    "    elif bmi >= 25 and bmi < 30:\n",
    "        ans = \"Overweight\"\n",
    "    else:\n",
    "        ans = \"Obesity\"\n",
    "\n",
    "    state[\"category\"] = ans\n",
    "\n",
    "    return state\n"
   ]
  },
  {
   "cell_type": "code",
   "execution_count": 4,
   "id": "a096a00c",
   "metadata": {},
   "outputs": [],
   "source": [
    "# Define graph\n",
    "# START ---> compute_BMI ---> compute_category ---> END\n",
    "\n",
    "graph = StateGraph(BMI_State_with_Category)"
   ]
  },
  {
   "cell_type": "code",
   "execution_count": 5,
   "id": "90c18b1c",
   "metadata": {},
   "outputs": [],
   "source": [
    "# Add nodes\n",
    "graph.add_node(\"compute_BMI\", compute_bmi)\n",
    "graph.add_node(\"compute_category\", compute_category)\n",
    "\n",
    "# Add edges\n",
    "graph.add_edge(START, \"compute_BMI\")\n",
    "graph.add_edge(\"compute_BMI\", \"compute_category\")\n",
    "graph.add_edge(\"compute_category\", END)\n",
    "\n",
    "# Compile\n",
    "workflow = graph.compile()"
   ]
  },
  {
   "cell_type": "code",
   "execution_count": 6,
   "id": "240ee72b",
   "metadata": {},
   "outputs": [],
   "source": [
    "initial_state = {\n",
    "    \"weight_kg\" : 80,\n",
    "    \"height_m\" : 1.73\n",
    "}\n",
    "\n",
    "final_state = workflow.invoke(initial_state)"
   ]
  },
  {
   "cell_type": "code",
   "execution_count": 7,
   "id": "d5e9a151",
   "metadata": {},
   "outputs": [
    {
     "data": {
      "text/plain": [
       "{'weight_kg': 80,\n",
       " 'height_m': 1.73,\n",
       " 'bmi': 26.729927495071667,\n",
       " 'category': 'Overweight'}"
      ]
     },
     "execution_count": 7,
     "metadata": {},
     "output_type": "execute_result"
    }
   ],
   "source": [
    "final_state"
   ]
  },
  {
   "cell_type": "code",
   "execution_count": null,
   "id": "4b327580",
   "metadata": {},
   "outputs": [],
   "source": []
  }
 ],
 "metadata": {
  "kernelspec": {
   "display_name": "Python 3",
   "language": "python",
   "name": "python3"
  },
  "language_info": {
   "codemirror_mode": {
    "name": "ipython",
    "version": 3
   },
   "file_extension": ".py",
   "mimetype": "text/x-python",
   "name": "python",
   "nbconvert_exporter": "python",
   "pygments_lexer": "ipython3",
   "version": "3.11.13"
  }
 },
 "nbformat": 4,
 "nbformat_minor": 5
}
