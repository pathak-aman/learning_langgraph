{
 "cells": [
  {
   "cell_type": "code",
   "execution_count": 1,
   "id": "287a8c2a",
   "metadata": {},
   "outputs": [],
   "source": [
    "from langgraph.graph import StateGraph, START, END\n",
    "from typing import TypedDict"
   ]
  },
  {
   "cell_type": "code",
   "execution_count": 2,
   "id": "e4e9f07d",
   "metadata": {},
   "outputs": [],
   "source": [
    "# Define the state for the workflow\n",
    "class BMIState(TypedDict):\n",
    "    weight_kg : float\n",
    "    height_m : float\n",
    "    bmi: float"
   ]
  },
  {
   "cell_type": "code",
   "execution_count": 3,
   "id": "bdba514b",
   "metadata": {},
   "outputs": [],
   "source": [
    "# Define the python functions that will invoked by graph node which access and modify the state\n",
    "def compute_bmi(state: BMIState) -> BMIState:\n",
    "    weight = state[\"weight_kg\"]\n",
    "    height = state[\"height_m\"]\n",
    "\n",
    "    bmi = weight / (height ** 2)\n",
    "    state[\"bmi\"] = round(bmi,2)\n",
    "\n",
    "    return state\n",
    "\n"
   ]
  },
  {
   "cell_type": "code",
   "execution_count": 4,
   "id": "54a008bb",
   "metadata": {},
   "outputs": [],
   "source": [
    "# Define graph:\n",
    "# START ---> compute_bmi ----> END"
   ]
  },
  {
   "cell_type": "code",
   "execution_count": 5,
   "id": "4613651d",
   "metadata": {},
   "outputs": [],
   "source": [
    "# Define graph\n",
    "graph = StateGraph(BMIState)\n",
    "\n",
    "# Define the nodes of the graph\n",
    "graph.add_node(\"compute_BMI\", compute_bmi)\n",
    "\n",
    "# Define the edges\n",
    "graph.add_edge(START, \"compute_BMI\")\n",
    "graph.add_edge(\"compute_BMI\", END)\n",
    "\n",
    "# Compile the graph\n",
    "workflow = graph.compile()"
   ]
  },
  {
   "cell_type": "code",
   "execution_count": 6,
   "id": "920b8873",
   "metadata": {},
   "outputs": [],
   "source": [
    "initial_state = {\n",
    "    \"weight_kg\" : 80,\n",
    "    \"height_m\" : 1.73\n",
    "}\n",
    "\n",
    "final_state = workflow.invoke(initial_state)"
   ]
  },
  {
   "cell_type": "code",
   "execution_count": 7,
   "id": "89dd13be",
   "metadata": {},
   "outputs": [
    {
     "data": {
      "text/plain": [
       "{'weight_kg': 80, 'height_m': 1.73, 'bmi': 26.73}"
      ]
     },
     "execution_count": 7,
     "metadata": {},
     "output_type": "execute_result"
    }
   ],
   "source": [
    "final_state"
   ]
  },
  {
   "cell_type": "code",
   "execution_count": 8,
   "id": "590f1ad6",
   "metadata": {},
   "outputs": [
    {
     "data": {
      "image/png": "[encoded data removed]",
      "text/plain": [
       "<IPython.core.display.Image object>"
      ]
     },
     "execution_count": 8,
     "metadata": {},
     "output_type": "execute_result"
    }
   ],
   "source": [
    "# Visualize the graph\n",
    "\n",
    "from IPython.display import Image\n",
    "Image(workflow.get_graph().draw_mermaid_png())"
   ]
  },
  {
   "cell_type": "code",
   "execution_count": null,
   "id": "08d877bb",
   "metadata": {},
   "outputs": [],
   "source": []
  }
 ],
 "metadata": {
  "kernelspec": {
   "display_name": "Python 3",
   "language": "python",
   "name": "python3"
  },
  "language_info": {
   "codemirror_mode": {
    "name": "ipython",
    "version": 3
   },
   "file_extension": ".py",
   "mimetype": "text/x-python",
   "name": "python",
   "nbconvert_exporter": "python",
   "pygments_lexer": "ipython3",
   "version": "3.11.13"
  }
 },
 "nbformat": 4,
 "nbformat_minor": 5
}
