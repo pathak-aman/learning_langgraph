{
 "cells": [
  {
   "cell_type": "code",
   "id": "initial_id",
   "metadata": {
    "collapsed": true
   },
   "source": [
    "from langgraph.graph import StateGraph, START, END\n",
    "from langchain_openai import ChatOpenAI\n",
    "from langchain_core.messages import SystemMessage, HumanMessage\n",
    "from dotenv import load_dotenv\n",
    "from typing import TypedDict\n",
    "import os"
   ],
   "outputs": [],
   "execution_count": null
  },
  {
   "metadata": {},
   "cell_type": "code",
   "source": "load_dotenv()",
   "id": "592e66a92dca5d3a",
   "outputs": [],
   "execution_count": null
  },
  {
   "metadata": {},
   "cell_type": "code",
   "source": [
    "blog_model = ChatOpenAI(\n",
    "    base_url= \"https://api.ai.it.ufl.edu\",\n",
    "    model = \"llama-3.1-70b-instruct\",\n",
    "    temperature=0.1,\n",
    "    api_key=os.getenv(\"NAVIGATOR_TOOLKIT_API_KEY\")\n",
    ")\n",
    "\n",
    "def initialize_summary_model(max_tokens = 500):\n",
    "    summary_model = ChatOpenAI(\n",
    "        base_url= \"https://api.ai.it.ufl.edu\",\n",
    "        model = \"llama-3.1-8b-instruct\",\n",
    "        temperature=0.1,\n",
    "        api_key=os.getenv(\"NAVIGATOR_TOOLKIT_API_KEY\"),\n",
    "        max_tokens=max_tokens\n",
    "    )\n",
    "    return summary_model"
   ],
   "id": "504256a4f01ff7ab",
   "outputs": [],
   "execution_count": null
  },
  {
   "metadata": {},
   "cell_type": "code",
   "source": [
    "class SummarizerLLM_QA_State(TypedDict):\n",
    "    question : str\n",
    "    outline : str\n",
    "    topic : str\n",
    "    blog : str\n",
    "    summary_max_tokens : int\n",
    "    answer : str\n",
    "    summary : str"
   ],
   "id": "e896053eba8e52b",
   "outputs": [],
   "execution_count": null
  },
  {
   "metadata": {},
   "cell_type": "code",
   "source": [
    "def generate_outline(state: SummarizerLLM_QA_State) -> SummarizerLLM_QA_State:\n",
    "    topic = state[\"topic\"]\n",
    "    question = state[\"question\"]\n",
    "    messages = [\n",
    "        SystemMessage(content=\"You are a helpful assistant that generate organized outline for a blog article based on a topic and a question.\"),\n",
    "        HumanMessage(content=f\"Topic: {topic}\\nQuestion: {question}\")\n",
    "    ]\n",
    "    response = blog_model.invoke(messages)\n",
    "    state[\"outline\"] = response.content\n",
    "    return state\n",
    "\n",
    "\n",
    "def generate_blog(state: SummarizerLLM_QA_State) -> SummarizerLLM_QA_State:\n",
    "    topic = state[\"topic\"]\n",
    "    question = state[\"question\"]\n",
    "    outline = state[\"outline\"]\n",
    "    messages = [\n",
    "        SystemMessage(content=\"You are a helpful assistant that generate long blogs articles based on a topic and a question. Your response should be organized based on the outline provided.\"),\n",
    "        HumanMessage(content=f\"Topic: {topic}\\nQuestion: {question}, \\nOutline: {outline}\")\n",
    "    ]\n",
    "    response = blog_model.invoke(messages)\n",
    "    state[\"blog\"] = response.content\n",
    "    return state\n",
    "\n",
    "def generate_summary(state: SummarizerLLM_QA_State) -> SummarizerLLM_QA_State:\n",
    "    blog = state[\"blog\"]\n",
    "    outline = state[\"outline\"]\n",
    "    summary_max_tokens = state[\"summary_max_tokens\"]\n",
    "\n",
    "    summary_model = initialize_summary_model(summary_max_tokens)\n",
    "    print(f\"Summary model initialized with max tokens: {summary_max_tokens}\")\n",
    "\n",
    "    messages = [\n",
    "        SystemMessage(content=\"You are a helpful assistant that summarize a blog article staying context aware about the outline.\"),\n",
    "        HumanMessage(content=f\"Blog: {blog}, \\nOutline: {outline}\")\n",
    "    ]\n",
    "    response = summary_model.invoke(messages)\n",
    "    state[\"summary\"] = response.content\n",
    "\n",
    "    return state"
   ],
   "id": "d6ebf8d54b0f4ea8",
   "outputs": [],
   "execution_count": null
  },
  {
   "metadata": {},
   "cell_type": "code",
   "source": [
    "# Define the graph\n",
    "\n",
    "# START ---> Generate outline ---> Generate blog ---> Generate summary ---> END\n",
    "graph = StateGraph(SummarizerLLM_QA_State)\n",
    "\n",
    "# Add nodes to graph\n",
    "graph.add_node(\"generate_outline\", generate_outline)\n",
    "graph.add_node(\"generate_blog\", generate_blog)\n",
    "graph.add_node(\"generate_summary\", generate_summary)\n",
    "\n",
    "# Add edges to graph\n",
    "graph.add_edge(START, \"generate_outline\")\n",
    "graph.add_edge(\"generate_outline\", \"generate_blog\")\n",
    "graph.add_edge(\"generate_blog\", \"generate_summary\")\n",
    "graph.add_edge(\"generate_summary\", END)\n",
    "\n",
    "# Compile the graph\n",
    "workflow = graph.compile()\n",
    "workflow\n"
   ],
   "id": "b731bffdc83f632d",
   "outputs": [],
   "execution_count": null
  },
  {
   "metadata": {},
   "cell_type": "code",
   "source": [
    "initial_state = {\n",
    "    \"question\": \"How to pick your first DSLR camera on a tight budget.\",\n",
    "    \"topic\": \"Camera\",\n",
    "    \"summary_max_tokens\": 1000\n",
    "}\n",
    "\n",
    "final_state = workflow.invoke(initial_state, verbose=True)"
   ],
   "id": "c9f9c0c1828a108",
   "outputs": [],
   "execution_count": null
  },
  {
   "metadata": {},
   "cell_type": "code",
   "source": [
    "print(\"========================\")\n",
    "print(\"Outline\")\n",
    "print(final_state[\"outline\"])\n",
    "\n",
    "print(\"Blog:\")\n",
    "print(final_state[\"blog\"])\n",
    "\n",
    "print(\"Summary:\")\n",
    "print(final_state[\"summary\"])"
   ],
   "id": "8f0408c5b39414dd",
   "outputs": [],
   "execution_count": null
  },
  {
   "metadata": {},
   "cell_type": "code",
   "source": "",
   "id": "b3b55ed42d60ddeb",
   "outputs": [],
   "execution_count": null
  }
 ],
 "metadata": {
  "kernelspec": {
   "display_name": "Python 3",
   "language": "python",
   "name": "python3"
  },
  "language_info": {
   "codemirror_mode": {
    "name": "ipython",
    "version": 2
   },
   "file_extension": ".py",
   "mimetype": "text/x-python",
   "name": "python",
   "nbconvert_exporter": "python",
   "pygments_lexer": "ipython2",
   "version": "2.7.6"
  }
 },
 "nbformat": 4,
 "nbformat_minor": 5
}
